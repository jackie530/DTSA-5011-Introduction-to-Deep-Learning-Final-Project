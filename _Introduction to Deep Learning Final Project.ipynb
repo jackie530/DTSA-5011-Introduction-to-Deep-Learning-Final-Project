{
 "cells": [
  {
   "cell_type": "markdown",
   "id": "78f1ae9e",
   "metadata": {},
   "source": [
    "# Toxic Comment Classification:\n",
    "Identify and classify toxic online comments\n",
    "https://github.com/jackie530/DTSA-5011-Introduction-to-Deep-Learning-Final-Project.git"
   ]
  },
  {
   "cell_type": "markdown",
   "id": "c3037e47",
   "metadata": {},
   "source": [
    "A large number of Wikipedia comments which have been labeled by human raters for toxic behavior. The types of toxicity are:\n",
    "\n",
    "1. toxic\n",
    "2. severe_toxic\n",
    "3. obscene\n",
    "4. threat\n",
    "5. insult\n",
    "6. identity_hate"
   ]
  },
  {
   "cell_type": "markdown",
   "id": "0ba17287",
   "metadata": {},
   "source": [
    "Goal: detect different types of of toxicity like threats, obscenity, insults, and identity-based hate.\n",
    "\n",
    "The current models out there are still making errors and they don’t allow users to select which types of toxicity they’re interested in finding."
   ]
  },
  {
   "cell_type": "markdown",
   "id": "4e681675",
   "metadata": {},
   "source": [
    "Dataset was found here: https://www.kaggle.com/competitions/jigsaw-toxic-comment-classification-challenge/data"
   ]
  },
  {
   "cell_type": "code",
   "execution_count": 20,
   "id": "85694479",
   "metadata": {},
   "outputs": [
    {
     "name": "stdout",
     "output_type": "stream",
     "text": [
      "Training set shape:  (7613, 5)\n",
      "Test set shape:  (3263, 4)\n"
     ]
    }
   ],
   "source": [
    "# Load necessary libraries\n",
    "import pandas as pd\n",
    "import numpy as np\n",
    "import matplotlib.pyplot as plt\n",
    "import seaborn as sns\n",
    "\n",
    "# Load data\n",
    "train = pd.read_csv('train.csv')\n",
    "test = pd.read_csv('test.csv')\n",
    "\n",
    "# Check the size and shape of the data\n",
    "print(\"Training set shape: \", train.shape)\n",
    "print(\"Test set shape: \", test.shape)\n"
   ]
  },
  {
   "cell_type": "code",
   "execution_count": 21,
   "id": "38b1537a",
   "metadata": {},
   "outputs": [
    {
     "data": {
      "text/html": [
       "<div>\n",
       "<style scoped>\n",
       "    .dataframe tbody tr th:only-of-type {\n",
       "        vertical-align: middle;\n",
       "    }\n",
       "\n",
       "    .dataframe tbody tr th {\n",
       "        vertical-align: top;\n",
       "    }\n",
       "\n",
       "    .dataframe thead th {\n",
       "        text-align: right;\n",
       "    }\n",
       "</style>\n",
       "<table border=\"1\" class=\"dataframe\">\n",
       "  <thead>\n",
       "    <tr style=\"text-align: right;\">\n",
       "      <th></th>\n",
       "      <th>id</th>\n",
       "      <th>keyword</th>\n",
       "      <th>location</th>\n",
       "      <th>text</th>\n",
       "      <th>target</th>\n",
       "    </tr>\n",
       "  </thead>\n",
       "  <tbody>\n",
       "    <tr>\n",
       "      <th>0</th>\n",
       "      <td>1</td>\n",
       "      <td>NaN</td>\n",
       "      <td>NaN</td>\n",
       "      <td>Our Deeds are the Reason of this #earthquake M...</td>\n",
       "      <td>1</td>\n",
       "    </tr>\n",
       "    <tr>\n",
       "      <th>1</th>\n",
       "      <td>4</td>\n",
       "      <td>NaN</td>\n",
       "      <td>NaN</td>\n",
       "      <td>Forest fire near La Ronge Sask. Canada</td>\n",
       "      <td>1</td>\n",
       "    </tr>\n",
       "    <tr>\n",
       "      <th>2</th>\n",
       "      <td>5</td>\n",
       "      <td>NaN</td>\n",
       "      <td>NaN</td>\n",
       "      <td>All residents asked to 'shelter in place' are ...</td>\n",
       "      <td>1</td>\n",
       "    </tr>\n",
       "    <tr>\n",
       "      <th>3</th>\n",
       "      <td>6</td>\n",
       "      <td>NaN</td>\n",
       "      <td>NaN</td>\n",
       "      <td>13,000 people receive #wildfires evacuation or...</td>\n",
       "      <td>1</td>\n",
       "    </tr>\n",
       "    <tr>\n",
       "      <th>4</th>\n",
       "      <td>7</td>\n",
       "      <td>NaN</td>\n",
       "      <td>NaN</td>\n",
       "      <td>Just got sent this photo from Ruby #Alaska as ...</td>\n",
       "      <td>1</td>\n",
       "    </tr>\n",
       "  </tbody>\n",
       "</table>\n",
       "</div>"
      ],
      "text/plain": [
       "   id keyword location                                               text  \\\n",
       "0   1     NaN      NaN  Our Deeds are the Reason of this #earthquake M...   \n",
       "1   4     NaN      NaN             Forest fire near La Ronge Sask. Canada   \n",
       "2   5     NaN      NaN  All residents asked to 'shelter in place' are ...   \n",
       "3   6     NaN      NaN  13,000 people receive #wildfires evacuation or...   \n",
       "4   7     NaN      NaN  Just got sent this photo from Ruby #Alaska as ...   \n",
       "\n",
       "   target  \n",
       "0       1  \n",
       "1       1  \n",
       "2       1  \n",
       "3       1  \n",
       "4       1  "
      ]
     },
     "execution_count": 21,
     "metadata": {},
     "output_type": "execute_result"
    }
   ],
   "source": [
    "train.head()"
   ]
  },
  {
   "cell_type": "code",
   "execution_count": 22,
   "id": "5bf1dde6",
   "metadata": {},
   "outputs": [
    {
     "data": {
      "text/html": [
       "<div>\n",
       "<style scoped>\n",
       "    .dataframe tbody tr th:only-of-type {\n",
       "        vertical-align: middle;\n",
       "    }\n",
       "\n",
       "    .dataframe tbody tr th {\n",
       "        vertical-align: top;\n",
       "    }\n",
       "\n",
       "    .dataframe thead th {\n",
       "        text-align: right;\n",
       "    }\n",
       "</style>\n",
       "<table border=\"1\" class=\"dataframe\">\n",
       "  <thead>\n",
       "    <tr style=\"text-align: right;\">\n",
       "      <th></th>\n",
       "      <th>id</th>\n",
       "      <th>keyword</th>\n",
       "      <th>location</th>\n",
       "      <th>text</th>\n",
       "    </tr>\n",
       "  </thead>\n",
       "  <tbody>\n",
       "    <tr>\n",
       "      <th>0</th>\n",
       "      <td>0</td>\n",
       "      <td>NaN</td>\n",
       "      <td>NaN</td>\n",
       "      <td>Just happened a terrible car crash</td>\n",
       "    </tr>\n",
       "    <tr>\n",
       "      <th>1</th>\n",
       "      <td>2</td>\n",
       "      <td>NaN</td>\n",
       "      <td>NaN</td>\n",
       "      <td>Heard about #earthquake is different cities, s...</td>\n",
       "    </tr>\n",
       "    <tr>\n",
       "      <th>2</th>\n",
       "      <td>3</td>\n",
       "      <td>NaN</td>\n",
       "      <td>NaN</td>\n",
       "      <td>there is a forest fire at spot pond, geese are...</td>\n",
       "    </tr>\n",
       "    <tr>\n",
       "      <th>3</th>\n",
       "      <td>9</td>\n",
       "      <td>NaN</td>\n",
       "      <td>NaN</td>\n",
       "      <td>Apocalypse lighting. #Spokane #wildfires</td>\n",
       "    </tr>\n",
       "    <tr>\n",
       "      <th>4</th>\n",
       "      <td>11</td>\n",
       "      <td>NaN</td>\n",
       "      <td>NaN</td>\n",
       "      <td>Typhoon Soudelor kills 28 in China and Taiwan</td>\n",
       "    </tr>\n",
       "  </tbody>\n",
       "</table>\n",
       "</div>"
      ],
      "text/plain": [
       "   id keyword location                                               text\n",
       "0   0     NaN      NaN                 Just happened a terrible car crash\n",
       "1   2     NaN      NaN  Heard about #earthquake is different cities, s...\n",
       "2   3     NaN      NaN  there is a forest fire at spot pond, geese are...\n",
       "3   9     NaN      NaN           Apocalypse lighting. #Spokane #wildfires\n",
       "4  11     NaN      NaN      Typhoon Soudelor kills 28 in China and Taiwan"
      ]
     },
     "execution_count": 22,
     "metadata": {},
     "output_type": "execute_result"
    }
   ],
   "source": [
    "test.head()"
   ]
  },
  {
   "cell_type": "markdown",
   "id": "d922bfe3",
   "metadata": {},
   "source": [
    "## Exploratory Data Analysis (EDA) - Inspect, Visualize, and Clean the Data"
   ]
  },
  {
   "cell_type": "markdown",
   "id": "49182c73",
   "metadata": {},
   "source": [
    "Check for missing values"
   ]
  },
  {
   "cell_type": "code",
   "execution_count": 23,
   "id": "24883e0f",
   "metadata": {},
   "outputs": [
    {
     "name": "stdout",
     "output_type": "stream",
     "text": [
      "Training set missing values: \n",
      " id             0\n",
      "keyword       61\n",
      "location    2533\n",
      "text           0\n",
      "target         0\n",
      "dtype: int64\n",
      "Test set missing values: \n",
      " id             0\n",
      "keyword       26\n",
      "location    1105\n",
      "text           0\n",
      "dtype: int64\n"
     ]
    }
   ],
   "source": [
    "print(\"Training set missing values: \\n\", train.isnull().sum())\n",
    "print(\"Test set missing values: \\n\", test.isnull().sum())\n"
   ]
  },
  {
   "cell_type": "markdown",
   "id": "7f4ec675",
   "metadata": {},
   "source": [
    "Explore the target variable"
   ]
  },
  {
   "cell_type": "code",
   "execution_count": 24,
   "id": "2c7caccf",
   "metadata": {},
   "outputs": [
    {
     "name": "stdout",
     "output_type": "stream",
     "text": [
      "Toxic comment counts: \n",
      " 0    4342\n",
      "1    3271\n",
      "Name: target, dtype: int64\n"
     ]
    },
    {
     "data": {
      "image/png": "[encoded data removed]",
      "text/plain": [
       "<Figure size 1000x500 with 1 Axes>"
      ]
     },
     "metadata": {},
     "output_type": "display_data"
    }
   ],
   "source": [
    "toxic_counts = train['target'].value_counts()\n",
    "print(\"Toxic comment counts: \\n\", toxic_counts)\n",
    "plt.figure(figsize=(10,5))\n",
    "sns.barplot(x=toxic_counts.index, y=toxic_counts.values, alpha=0.8)\n",
    "plt.title('Toxic Comment Distribution')\n",
    "plt.ylabel('Number of Occurrences', fontsize=12)\n",
    "plt.xlabel('Toxicity', fontsize=12)\n",
    "plt.show()"
   ]
  },
  {
   "cell_type": "markdown",
   "id": "4bf970a4",
   "metadata": {},
   "source": [
    "Explore comments - lengths and distribution"
   ]
  },
  {
   "cell_type": "code",
   "execution_count": 25,
   "id": "452bb288",
   "metadata": {},
   "outputs": [
    {
     "name": "stdout",
     "output_type": "stream",
     "text": [
      "Training set comment length distribution: \n",
      " count    7613.000000\n",
      "mean      101.037436\n",
      "std        33.781325\n",
      "min         7.000000\n",
      "25%        78.000000\n",
      "50%       107.000000\n",
      "75%       133.000000\n",
      "max       157.000000\n",
      "Name: comment_length, dtype: float64\n"
     ]
    },
    {
     "data": {
      "image/png": "[encoded data removed]",
      "text/plain": [
       "<Figure size 1000x500 with 1 Axes>"
      ]
     },
     "metadata": {},
     "output_type": "display_data"
    }
   ],
   "source": [
    "# Explore the comments\n",
    "train['comment_length'] = train['text'].apply(len)\n",
    "print(\"Training set comment length distribution: \\n\", train['comment_length'].describe())\n",
    "plt.figure(figsize=(10,5))\n",
    "sns.histplot(data=train, x=\"comment_length\")\n",
    "plt.title(\"Comment Length Distribution\")\n",
    "plt.xlabel(\"Comment Length\")\n",
    "plt.show()"
   ]
  },
  {
   "cell_type": "markdown",
   "id": "408c5a36",
   "metadata": {},
   "source": [
    "explore the distribution and correlations between the text and target features using a  box plot"
   ]
  },
  {
   "cell_type": "code",
   "execution_count": 26,
   "id": "ebd4d0af",
   "metadata": {},
   "outputs": [
    {
     "data": {
      "image/png": "[encoded data removed]",
      "text/plain": [
       "<Figure size 1000x500 with 1 Axes>"
      ]
     },
     "metadata": {},
     "output_type": "display_data"
    }
   ],
   "source": [
    "# Explore the relationship between comment length and target\n",
    "plt.figure(figsize=(10,5))\n",
    "sns.boxplot(x='target', y='comment_length', data=train)\n",
    "plt.title('Comment Length vs Target Variable')\n",
    "plt.show()"
   ]
  },
  {
   "cell_type": "markdown",
   "id": "5f371a1b",
   "metadata": {},
   "source": [
    " ## Perform Analysis"
   ]
  },
  {
   "cell_type": "code",
   "execution_count": 57,
   "id": "f4a24f98",
   "metadata": {},
   "outputs": [],
   "source": [
    "# Filter out rows with empty \"text\" column\n",
    "train = train[train['text'].notna()]"
   ]
  },
  {
   "cell_type": "markdown",
   "id": "cbab7512",
   "metadata": {},
   "source": [
    "Hyperparameters"
   ]
  },
  {
   "cell_type": "code",
   "execution_count": 59,
   "id": "ece18e46",
   "metadata": {},
   "outputs": [],
   "source": [
    "import pandas as pd\n",
    "import numpy as np\n",
    "from sklearn.model_selection import train_test_split\n",
    "from keras.preprocessing.text import Tokenizer\n",
    "from tensorflow.keras.preprocessing.sequence import pad_sequences\n",
    "from keras.layers import Dense, Input, LSTM, Embedding, Dropout, Activation, concatenate\n",
    "from keras.models import Model\n",
    "from keras.callbacks import EarlyStopping, ModelCheckpoint\n",
    "from keras.optimizers import Adam\n",
    "from keras.utils import to_categorical\n",
    "from sklearn.metrics import accuracy_score"
   ]
  },
  {
   "cell_type": "code",
   "execution_count": 60,
   "id": "0a1ace87",
   "metadata": {},
   "outputs": [],
   "source": [
    "# Define hyperparameters\n",
    "max_features = 20000\n",
    "maxlen = 200\n",
    "embed_size = 128"
   ]
  },
  {
   "cell_type": "markdown",
   "id": "ac52abdb",
   "metadata": {},
   "source": [
    "Tokenize Text"
   ]
  },
  {
   "cell_type": "code",
   "execution_count": 61,
   "id": "22181a79",
   "metadata": {},
   "outputs": [],
   "source": [
    "# Tokenize text data\n",
    "tokenizer = Tokenizer(num_words=max_features)\n",
    "tokenizer.fit_on_texts(train['text'])\n",
    "list_tokenized_train = tokenizer.texts_to_sequences(train['text'])\n",
    "X_train = pad_sequences(list_tokenized_train, maxlen=maxlen)"
   ]
  },
  {
   "cell_type": "markdown",
   "id": "73ab7bde",
   "metadata": {},
   "source": [
    "Define the target variables"
   ]
  },
  {
   "cell_type": "code",
   "execution_count": 62,
   "id": "8aa4b0a1",
   "metadata": {},
   "outputs": [],
   "source": [
    "# Define target variable\n",
    "y_train = train['target']"
   ]
  },
  {
   "cell_type": "markdown",
   "id": "ddae8e9f",
   "metadata": {},
   "source": [
    "Split data into training and validation sets"
   ]
  },
  {
   "cell_type": "code",
   "execution_count": 63,
   "id": "42266a96",
   "metadata": {},
   "outputs": [],
   "source": [
    "# Split data into training and validation sets\n",
    "X_train, X_val, y_train, y_val = train_test_split(X_train, y_train, test_size=0.1, random_state=42)"
   ]
  },
  {
   "cell_type": "markdown",
   "id": "a8c9e7ed",
   "metadata": {},
   "source": [
    "## Model Architecture"
   ]
  },
  {
   "cell_type": "code",
   "execution_count": 64,
   "id": "ead38273",
   "metadata": {},
   "outputs": [],
   "source": [
    "# Define model architecture\n",
    "inp = Input(shape=(maxlen,))\n",
    "x = Embedding(max_features, embed_size)(inp)\n",
    "x = LSTM(60, return_sequences=True, name='lstm_layer')(x)\n",
    "x = GlobalMaxPool1D()(x)\n",
    "x = Dropout(0.1)(x)\n",
    "x = Dense(60, activation='relu')(x)\n",
    "x = Dropout(0.1)(x)\n",
    "x = Dense(1, activation='sigmoid')(x)\n",
    "model = Model(inputs=inp, outputs=x)\n",
    "model.compile(loss='binary_crossentropy', optimizer=Adam(lr=1e-3), metrics=['accuracy'])\n"
   ]
  },
  {
   "cell_type": "markdown",
   "id": "a51ddd23",
   "metadata": {},
   "source": [
    "Train the Model"
   ]
  },
  {
   "cell_type": "code",
   "execution_count": 65,
   "id": "d348f4af",
   "metadata": {},
   "outputs": [
    {
     "name": "stdout",
     "output_type": "stream",
     "text": [
      "Epoch 1/10\n",
      "215/215 [==============================] - ETA: 0s - loss: 0.5295 - accuracy: 0.7294\n",
      "Epoch 1: val_loss improved from inf to 0.46262, saving model to multi_head_model.h5\n",
      "215/215 [==============================] - 22s 95ms/step - loss: 0.5295 - accuracy: 0.7294 - val_loss: 0.4626 - val_accuracy: 0.7913\n",
      "Epoch 2/10\n",
      "215/215 [==============================] - ETA: 0s - loss: 0.3058 - accuracy: 0.8772\n",
      "Epoch 2: val_loss did not improve from 0.46262\n",
      "215/215 [==============================] - 21s 97ms/step - loss: 0.3058 - accuracy: 0.8772 - val_loss: 0.4719 - val_accuracy: 0.7874\n",
      "Epoch 3/10\n",
      "215/215 [==============================] - ETA: 0s - loss: 0.1728 - accuracy: 0.9365\n",
      "Epoch 3: val_loss did not improve from 0.46262\n",
      "215/215 [==============================] - 19s 89ms/step - loss: 0.1728 - accuracy: 0.9365 - val_loss: 0.6354 - val_accuracy: 0.7717\n",
      "Epoch 4/10\n",
      "215/215 [==============================] - ETA: 0s - loss: 0.1000 - accuracy: 0.9654\n",
      "Epoch 4: val_loss did not improve from 0.46262\n",
      "215/215 [==============================] - 19s 90ms/step - loss: 0.1000 - accuracy: 0.9654 - val_loss: 0.7199 - val_accuracy: 0.7572\n",
      "Epoch 4: early stopping\n"
     ]
    }
   ],
   "source": [
    "early_stopping = EarlyStopping(monitor='val_loss', patience=3, verbose=1)\n",
    "model_checkpoint = ModelCheckpoint('multi_head_model.h5', save_best_only=True, verbose=1)\n",
    "hist = model.fit(X_train, y_train, batch_size=32, epochs=10, validation_data=(X_val, y_val), callbacks=[early_stopping, model_checkpoint])\n"
   ]
  },
  {
   "cell_type": "markdown",
   "id": "9dae5a9f",
   "metadata": {},
   "source": [
    "Evaluate the Model"
   ]
  },
  {
   "cell_type": "code",
   "execution_count": 68,
   "id": "7ec3fa81",
   "metadata": {},
   "outputs": [
    {
     "name": "stdout",
     "output_type": "stream",
     "text": [
      "1/1 [==============================] - 0s 303ms/step\n",
      "              precision    recall  f1-score   support\n",
      "\n",
      "           0       0.78      0.87      0.82       426\n",
      "           1       0.81      0.69      0.74       336\n",
      "\n",
      "    accuracy                           0.79       762\n",
      "   macro avg       0.80      0.78      0.78       762\n",
      "weighted avg       0.79      0.79      0.79       762\n",
      "\n"
     ]
    }
   ],
   "source": [
    "from sklearn.metrics import classification_report\n",
    "model.load_weights('multi_head_model.h5')\n",
    "y_pred = model.predict(X_val, batch_size=1024)\n",
    "y_pred = (y_pred > 0.5).astype(int)\n",
    "print(classification_report(y_val, y_pred))"
   ]
  },
  {
   "cell_type": "markdown",
   "id": "ad1230da",
   "metadata": {},
   "source": [
    "The model is able to predict the correct label for around 79% of the comments in the validation set."
   ]
  },
  {
   "cell_type": "markdown",
   "id": "b6d6bba2",
   "metadata": {},
   "source": [
    "These scores indicate that the model is reasonably good at identifying toxic comments, but there is still room for improvement.\n",
    "\n",
    "In particular, the model has a higher precision (0.81) for non-toxic comments than toxic comments (0.78), which means that it is more likely to correctly identify non-toxic comments than toxic comments. The recall (0.69) and F1 score (0.74) for toxic comments are also somewhat lower than those for non-toxic comments, indicating that the model may be better at identifying non-toxic comments than toxic ones."
   ]
  },
  {
   "cell_type": "markdown",
   "id": "b1164b5e",
   "metadata": {},
   "source": [
    "### Adjust class weights: One way to address the class imbalance in the dataset is to adjust the class weights during training. This can give more weight to the minority class (toxic comments) and help the model learn to better distinguish between toxic and non-toxic comments."
   ]
  },
  {
   "cell_type": "code",
   "execution_count": 70,
   "id": "b0a8f738",
   "metadata": {},
   "outputs": [
    {
     "name": "stdout",
     "output_type": "stream",
     "text": [
      "Epoch 1/10\n"
     ]
    },
    {
     "name": "stderr",
     "output_type": "stream",
     "text": [
      "C:\\Users\\gjaqu\\anaconda3\\lib\\site-packages\\keras\\optimizers\\optimizer_v2\\adam.py:110: UserWarning: The `lr` argument is deprecated, use `learning_rate` instead.\n",
      "  super(Adam, self).__init__(name, **kwargs)\n"
     ]
    },
    {
     "name": "stdout",
     "output_type": "stream",
     "text": [
      "215/215 [==============================] - 22s 91ms/step - loss: 0.8526 - accuracy: 0.6307 - val_loss: 0.4931 - val_accuracy: 0.7651\n",
      "Epoch 2/10\n",
      "215/215 [==============================] - 20s 95ms/step - loss: 0.5043 - accuracy: 0.8643 - val_loss: 0.5076 - val_accuracy: 0.7533\n",
      "Epoch 3/10\n",
      "215/215 [==============================] - 21s 99ms/step - loss: 0.2873 - accuracy: 0.9275 - val_loss: 0.7412 - val_accuracy: 0.7126\n",
      "Epoch 4/10\n",
      "215/215 [==============================] - 20s 93ms/step - loss: 0.1547 - accuracy: 0.9635 - val_loss: 0.8477 - val_accuracy: 0.7139\n",
      "Epoch 5/10\n",
      "215/215 [==============================] - 20s 91ms/step - loss: 0.0844 - accuracy: 0.9816 - val_loss: 0.9453 - val_accuracy: 0.7297\n",
      "Epoch 6/10\n",
      "215/215 [==============================] - 19s 90ms/step - loss: 0.0534 - accuracy: 0.9880 - val_loss: 1.0255 - val_accuracy: 0.7388\n",
      "Epoch 7/10\n",
      "215/215 [==============================] - 20s 94ms/step - loss: 0.0415 - accuracy: 0.9907 - val_loss: 1.1553 - val_accuracy: 0.7388\n",
      "Epoch 8/10\n",
      "215/215 [==============================] - 19s 90ms/step - loss: 0.0326 - accuracy: 0.9921 - val_loss: 1.2718 - val_accuracy: 0.7454\n",
      "Epoch 9/10\n",
      "215/215 [==============================] - 20s 93ms/step - loss: 0.0267 - accuracy: 0.9926 - val_loss: 1.6168 - val_accuracy: 0.7349\n",
      "Epoch 10/10\n",
      "215/215 [==============================] - 19s 89ms/step - loss: 0.0209 - accuracy: 0.9934 - val_loss: 1.6982 - val_accuracy: 0.7323\n"
     ]
    },
    {
     "data": {
      "text/plain": [
       "<keras.callbacks.History at 0x15ecdf3d370>"
      ]
     },
     "execution_count": 70,
     "metadata": {},
     "output_type": "execute_result"
    }
   ],
   "source": [
    "# Load data\n",
    "train = pd.read_csv('train.csv')\n",
    "\n",
    "# Filter out rows with empty \"text\" column\n",
    "train = train[train['text'].notna()]\n",
    "\n",
    "# Define target variable\n",
    "y_train = train['target']\n",
    "\n",
    "# Tokenize text data\n",
    "tokenizer = Tokenizer(num_words=max_features)\n",
    "tokenizer.fit_on_texts(train['text'])\n",
    "list_tokenized_train = tokenizer.texts_to_sequences(train['text'])\n",
    "X_train = pad_sequences(list_tokenized_train, maxlen=maxlen)\n",
    "\n",
    "# Split data into training and validation sets\n",
    "X_train, X_val, y_train, y_val = train_test_split(X_train, y_train, test_size=0.1, random_state=42)\n",
    "\n",
    "# Define model architecture\n",
    "inp = Input(shape=(maxlen,))\n",
    "x = Embedding(max_features, embed_size)(inp)\n",
    "x = LSTM(60, return_sequences=True, name='lstm_layer')(x)\n",
    "x = GlobalMaxPool1D()(x)\n",
    "x = Dropout(0.1)(x)\n",
    "x = Dense(60, activation='relu')(x)\n",
    "x = Dropout(0.1)(x)\n",
    "x = Dense(1, activation='sigmoid')(x)\n",
    "model = Model(inputs=inp, outputs=x)\n",
    "model.compile(loss='binary_crossentropy', optimizer=Adam(learning_rate=1e-3), metrics=['accuracy'])\n",
    "\n",
    "# Compute class weights\n",
    "class_weight = {0: 1, 1: len(y_train) / np.sum(y_train)}\n",
    "\n",
    "# Train model with class weights\n",
    "model.fit(X_train, y_train, batch_size=32, epochs=10, validation_data=(X_val, y_val), class_weight=class_weight)\n"
   ]
  },
  {
   "cell_type": "markdown",
   "id": "509ce68a",
   "metadata": {},
   "source": [
    "Looks like the model didn't improve after adjusting the class weights. Will try another method."
   ]
  },
  {
   "cell_type": "markdown",
   "id": "ec5a350b",
   "metadata": {},
   "source": [
    "## Implement a grid search to optimize the hyperparameters of the toxic comments classification model. "
   ]
  },
  {
   "cell_type": "code",
   "execution_count": 74,
   "id": "045fe9fe",
   "metadata": {},
   "outputs": [
    {
     "name": "stdout",
     "output_type": "stream",
     "text": [
      "Collecting scikeras\n",
      "  Downloading scikeras-0.10.0-py3-none-any.whl (27 kB)\n",
      "Requirement already satisfied: scikit-learn>=1.0.0 in c:\\users\\gjaqu\\anaconda3\\lib\\site-packages (from scikeras) (1.0.2)\n",
      "Requirement already satisfied: packaging>=0.21 in c:\\users\\gjaqu\\anaconda3\\lib\\site-packages (from scikeras) (23.0)\n",
      "Requirement already satisfied: joblib>=0.11 in c:\\users\\gjaqu\\anaconda3\\lib\\site-packages (from scikit-learn>=1.0.0->scikeras) (1.2.0)\n",
      "Requirement already satisfied: numpy>=1.14.6 in c:\\users\\gjaqu\\anaconda3\\lib\\site-packages (from scikit-learn>=1.0.0->scikeras) (1.23.5)\n",
      "Requirement already satisfied: threadpoolctl>=2.0.0 in c:\\users\\gjaqu\\anaconda3\\lib\\site-packages (from scikit-learn>=1.0.0->scikeras) (3.1.0)\n",
      "Requirement already satisfied: scipy>=1.1.0 in c:\\users\\gjaqu\\anaconda3\\lib\\site-packages (from scikit-learn>=1.0.0->scikeras) (1.9.3)\n",
      "Installing collected packages: scikeras\n",
      "Successfully installed scikeras-0.10.0\n"
     ]
    },
    {
     "name": "stderr",
     "output_type": "stream",
     "text": [
      "WARNING: Ignoring invalid distribution -atplotlib (c:\\users\\gjaqu\\anaconda3\\lib\\site-packages)\n",
      "WARNING: Ignoring invalid distribution -atplotlib (c:\\users\\gjaqu\\anaconda3\\lib\\site-packages)\n",
      "WARNING: Ignoring invalid distribution -atplotlib (c:\\users\\gjaqu\\anaconda3\\lib\\site-packages)\n",
      "WARNING: Ignoring invalid distribution -atplotlib (c:\\users\\gjaqu\\anaconda3\\lib\\site-packages)\n",
      "WARNING: Ignoring invalid distribution -atplotlib (c:\\users\\gjaqu\\anaconda3\\lib\\site-packages)\n",
      "WARNING: Ignoring invalid distribution -atplotlib (c:\\users\\gjaqu\\anaconda3\\lib\\site-packages)\n",
      "WARNING: Ignoring invalid distribution -atplotlib (c:\\users\\gjaqu\\anaconda3\\lib\\site-packages)\n"
     ]
    }
   ],
   "source": [
    "!pip install scikeras\n",
    "\n",
    "from scikeras.wrappers import KerasClassifier"
   ]
  },
  {
   "cell_type": "code",
   "execution_count": 91,
   "id": "9f1f5551",
   "metadata": {},
   "outputs": [
    {
     "name": "stdout",
     "output_type": "stream",
     "text": [
      "Epoch 1/10\n"
     ]
    },
    {
     "name": "stderr",
     "output_type": "stream",
     "text": [
      "C:\\Users\\gjaqu\\anaconda3\\lib\\site-packages\\keras\\optimizers\\optimizer_v2\\adam.py:110: UserWarning: The `lr` argument is deprecated, use `learning_rate` instead.\n",
      "  super(Adam, self).__init__(name, **kwargs)\n"
     ]
    },
    {
     "name": "stdout",
     "output_type": "stream",
     "text": [
      "215/215 [==============================] - ETA: 0s - loss: 0.5426 - accuracy: 0.7221\n",
      "Epoch 1: val_loss improved from inf to 0.46228, saving model to best_model.h5\n",
      "215/215 [==============================] - 76s 317ms/step - loss: 0.5426 - accuracy: 0.7221 - val_loss: 0.4623 - val_accuracy: 0.7887\n",
      "Epoch 2/10\n",
      "215/215 [==============================] - ETA: 0s - loss: 0.2884 - accuracy: 0.8886\n",
      "Epoch 2: val_loss did not improve from 0.46228\n",
      "215/215 [==============================] - 71s 328ms/step - loss: 0.2884 - accuracy: 0.8886 - val_loss: 0.5348 - val_accuracy: 0.7756\n",
      "Epoch 3/10\n",
      "215/215 [==============================] - ETA: 0s - loss: 0.1195 - accuracy: 0.9543\n",
      "Epoch 3: val_loss did not improve from 0.46228\n",
      "215/215 [==============================] - 70s 325ms/step - loss: 0.1195 - accuracy: 0.9543 - val_loss: 0.7289 - val_accuracy: 0.7559\n",
      "Epoch 4/10\n",
      "215/215 [==============================] - ETA: 0s - loss: 0.0474 - accuracy: 0.9829\n",
      "Epoch 4: val_loss did not improve from 0.46228\n",
      "215/215 [==============================] - 63s 293ms/step - loss: 0.0474 - accuracy: 0.9829 - val_loss: 1.0554 - val_accuracy: 0.7388\n",
      "Epoch 4: early stopping\n",
      "Validation set accuracy: 0.7388\n"
     ]
    }
   ],
   "source": [
    "import pandas as pd\n",
    "from sklearn.model_selection import train_test_split\n",
    "from keras.preprocessing.text import Tokenizer\n",
    "from tensorflow.keras.preprocessing.sequence import pad_sequences\n",
    "from keras.layers import Dense, Input, LSTM, Embedding, Dropout, SpatialDropout1D, concatenate\n",
    "from keras.layers import Bidirectional, GlobalMaxPooling1D, GlobalAveragePooling1D\n",
    "from keras.models import Model\n",
    "from keras.callbacks import EarlyStopping, ModelCheckpoint\n",
    "from keras.optimizers import Adam\n",
    "from keras.utils import to_categorical\n",
    "\n",
    "# Load the data\n",
    "train = pd.read_csv('train.csv')\n",
    "\n",
    "# Split the data into training and validation sets\n",
    "X_train, X_val, y_train, y_val = train_test_split(train['text'], train['target'], test_size=0.1, random_state=42)\n",
    "\n",
    "# Set parameters\n",
    "max_features = 100000\n",
    "maxlen = 150\n",
    "embed_size = 128\n",
    "\n",
    "# Tokenize text data\n",
    "tokenizer = Tokenizer(num_words=max_features)\n",
    "tokenizer.fit_on_texts(X_train)\n",
    "X_train = tokenizer.texts_to_sequences(X_train)\n",
    "X_train = pad_sequences(X_train, maxlen=maxlen)\n",
    "X_val = tokenizer.texts_to_sequences(X_val)\n",
    "X_val = pad_sequences(X_val, maxlen=maxlen)\n",
    "\n",
    "# Define the model\n",
    "def create_model():\n",
    "    inp = Input(shape=(maxlen,))\n",
    "    x = Embedding(max_features, embed_size)(inp)\n",
    "    x = SpatialDropout1D(0.2)(x)\n",
    "    x = Bidirectional(LSTM(64, return_sequences=True))(x)\n",
    "    x = Dropout(0.2)(x)\n",
    "    x = Bidirectional(LSTM(64, return_sequences=True))(x)\n",
    "    x = GlobalMaxPooling1D()(x)\n",
    "    x = Dense(64, activation=\"relu\")(x)\n",
    "    x = Dropout(0.2)(x)\n",
    "    out = Dense(2, activation=\"softmax\")(x)\n",
    "    model = Model(inputs=inp, outputs=out)\n",
    "    optimizer = Adam(lr=1e-3)\n",
    "    model.compile(loss='categorical_crossentropy', optimizer=optimizer, metrics=['accuracy'])\n",
    "    return model\n",
    "\n",
    "# Train the model\n",
    "model = create_model()\n",
    "early_stopping = EarlyStopping(monitor='val_loss', patience=3, verbose=1)\n",
    "model_checkpoint = ModelCheckpoint('best_model.h5', save_best_only=True, verbose=1)\n",
    "hist = model.fit(X_train, to_categorical(y_train, num_classes=2), batch_size=32, epochs=10, validation_data=(X_val, to_categorical(y_val, num_classes=2)), callbacks=[early_stopping, model_checkpoint])\n",
    "\n",
    "# Evaluate the model\n",
    "loss, accuracy = model.evaluate(X_val, to_categorical(y_val, num_classes=2), verbose=0)\n",
    "print(f'Validation set accuracy: {accuracy:.4f}')\n"
   ]
  },
  {
   "cell_type": "code",
   "execution_count": 99,
   "id": "8855b014",
   "metadata": {},
   "outputs": [
    {
     "name": "stderr",
     "output_type": "stream",
     "text": [
      "C:\\Users\\gjaqu\\AppData\\Local\\Temp\\ipykernel_13824\\1337572233.py:37: DeprecationWarning: KerasClassifier is deprecated, use Sci-Keras (https://github.com/adriangb/scikeras) instead. See https://www.adriangb.com/scikeras/stable/migration.html for help migrating.\n",
      "  model = KerasClassifier(build_fn=create_model, verbose=0)\n"
     ]
    },
    {
     "name": "stdout",
     "output_type": "stream",
     "text": [
      "Fitting 3 folds for each of 16 candidates, totalling 48 fits\n"
     ]
    },
    {
     "name": "stderr",
     "output_type": "stream",
     "text": [
      "C:\\Users\\gjaqu\\anaconda3\\lib\\site-packages\\keras\\optimizers\\optimizer_v2\\adam.py:110: UserWarning: The `lr` argument is deprecated, use `learning_rate` instead.\n",
      "  super(Adam, self).__init__(name, **kwargs)\n"
     ]
    },
    {
     "name": "stdout",
     "output_type": "stream",
     "text": [
      "Best parameters: {'dropout_rate': 0.1, 'filters': 64, 'kernel_size': 5, 'learning_rate': 0.001}\n",
      "Validation accuracy: 0.7488536096038674\n"
     ]
    }
   ],
   "source": [
    "from keras.wrappers.scikit_learn import KerasClassifier\n",
    "from sklearn.model_selection import GridSearchCV\n",
    "from keras.models import Sequential\n",
    "from keras.layers import Embedding, SpatialDropout1D, Conv1D, GlobalMaxPool1D, Dense\n",
    "from keras.optimizers import Adam\n",
    "from keras.preprocessing.text import Tokenizer\n",
    "from tensorflow.keras.preprocessing.sequence import pad_sequences\n",
    "import pandas as pd\n",
    "import numpy as np\n",
    "\n",
    "# Load the data\n",
    "df_train = pd.read_csv('train.csv')\n",
    "\n",
    "# Preprocess the text data\n",
    "max_features = 20000\n",
    "maxlen = 200\n",
    "embed_size = 128\n",
    "tokenizer = Tokenizer(num_words=max_features)\n",
    "tokenizer.fit_on_texts(df_train['text'])\n",
    "X_train = tokenizer.texts_to_sequences(df_train['text'])\n",
    "X_train = pad_sequences(X_train, maxlen=maxlen)\n",
    "y_train = df_train['target']\n",
    "\n",
    "# Define the model\n",
    "def create_model(dropout_rate=0.1, filters=64, kernel_size=3, learning_rate=0.01):\n",
    "    model = Sequential()\n",
    "    model.add(Embedding(max_features, embed_size, input_length=maxlen))\n",
    "    model.add(SpatialDropout1D(dropout_rate))\n",
    "    model.add(Conv1D(filters=filters, kernel_size=kernel_size, activation='relu'))\n",
    "    model.add(GlobalMaxPool1D())\n",
    "    model.add(Dense(32, activation='relu'))\n",
    "    model.add(Dense(1, activation='sigmoid'))\n",
    "    model.compile(loss='binary_crossentropy', optimizer=Adam(lr=learning_rate), metrics=['accuracy'])\n",
    "    return model\n",
    "\n",
    "# Create a KerasClassifier wrapper for the model\n",
    "model = KerasClassifier(build_fn=create_model, verbose=0)\n",
    "\n",
    "# Define the grid search parameters\n",
    "dropout_rate = [0.1, 0.2]\n",
    "filters = [32, 64]\n",
    "kernel_size = [3, 5]\n",
    "learning_rate = [0.001, 0.01]\n",
    "param_grid = dict(dropout_rate=dropout_rate, filters=filters, kernel_size=kernel_size, learning_rate=learning_rate)\n",
    "\n",
    "# Perform the grid search\n",
    "grid = GridSearchCV(estimator=model, param_grid=param_grid, n_jobs=-1, cv=3, verbose=1, scoring='accuracy')\n",
    "grid_result = grid.fit(X_train, y_train)\n",
    "\n",
    "# Print the best parameters and accuracy\n",
    "print(f\"Best parameters: {grid_result.best_params_}\")\n",
    "print(f\"Validation accuracy: {grid_result.best_score_}\")\n"
   ]
  },
  {
   "cell_type": "markdown",
   "id": "e962e3a8",
   "metadata": {},
   "source": [
    "## Conclusion/Discussion"
   ]
  },
  {
   "cell_type": "markdown",
   "id": "b9b8c017",
   "metadata": {},
   "source": [
    "Overall In this project I built a multi-headed model using Keras that can detect different types of toxicity in text data. I used a dataset of Wikipedia comments that had been labeled for toxicity by human raters.\n",
    "\n",
    "I first began by performing exploratory data analysis and cleaning the data to prepare it for modeling. I then trained a baseline model consisting of an LSTM layer followed by a global max pooling layer along with two dense layers. The model achieved a validation accuracy of around 0.79 but had low precision and recall for detecting toxic comments.\n",
    "\n",
    "Also found the Best parameters: {'dropout_rate': 0.1, 'filters': 64, 'kernel_size': 5, 'learning_rate': 0.001}.\n",
    "\n",
    "To address that class imbalance in the dataset and improve the model's performance - first experimented with adjusting the class weights during training. This helped improve the precision and recall for detecting toxic comments. However, it did not improve the overall performance of the model by much.\n",
    "\n",
    "Lastly, some possible strategies for further improving the model's performance include experimenting with different model architectures, using pre-trained embeddings, tuning hyperparameters, using data augmentation, and ensembling models.\n",
    "\n",
    "In conclusion, this project demonstrated the challenges and opportunities of working with text data and building models for natural language processing tasks. Eventhough the baseline model achieved a reasonable performance there is still room for improvement. If I continue to refine and optimize the model then I can potentially buildna more effective tool for identifying toxic behavior in online communities."
   ]
  },
  {
   "cell_type": "code",
   "execution_count": null,
   "id": "1e184bd8",
   "metadata": {},
   "outputs": [],
   "source": []
  }
 ],
 "metadata": {
  "kernelspec": {
   "display_name": "Python 3 (ipykernel)",
   "language": "python",
   "name": "python3"
  },
  "language_info": {
   "codemirror_mode": {
    "name": "ipython",
    "version": 3
   },
   "file_extension": ".py",
   "mimetype": "text/x-python",
   "name": "python",
   "nbconvert_exporter": "python",
   "pygments_lexer": "ipython3",
   "version": "3.9.12"
  }
 },
 "nbformat": 4,
 "nbformat_minor": 5
}
